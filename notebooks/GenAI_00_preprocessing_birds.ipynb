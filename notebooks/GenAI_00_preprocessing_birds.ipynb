{
 "cells": [
  {
   "cell_type": "markdown",
   "metadata": {},
   "source": [
    "This is a small project utilizing the differenet GenAI architectures to generate new bird & Pokemon names."
   ]
  },
  {
   "cell_type": "code",
   "execution_count": 1,
   "metadata": {},
   "outputs": [
    {
     "name": "stdout",
     "output_type": "stream",
     "text": [
      "Abbott's babbler\n",
      "Abbott's booby\n",
      "Abbott's starling\n",
      "Abbott's sunbird\n",
      "Abd al-Kuri sparrow\n"
     ]
    }
   ],
   "source": [
    "import csv\n",
    "\n",
    "filename = '../data/birds.csv' # donwloaded from https://www.kaggle.com/datasets/thepushkarp/common-bird-names?resource=download\n",
    "\n",
    "with open(filename, newline='') as f:\n",
    "    reader = csv.reader(f)\n",
    "    data = [n for _,n in list(reader)[1:]]\n",
    "\n",
    "print(*data[:5], sep='\\n')"
   ]
  },
  {
   "cell_type": "code",
   "execution_count": 2,
   "metadata": {},
   "outputs": [
    {
     "data": {
      "text/plain": [
       "10976"
      ]
     },
     "execution_count": 2,
     "metadata": {},
     "output_type": "execute_result"
    }
   ],
   "source": [
    "len(data)"
   ]
  },
  {
   "cell_type": "code",
   "execution_count": 3,
   "metadata": {},
   "outputs": [
    {
     "data": {
      "text/plain": [
       "[\"Snethlage's tody-tyrant\",\n",
       " 'Tenerife blue chaffinch',\n",
       " 'Indian courser',\n",
       " 'Cape siskin',\n",
       " 'Brown emutail',\n",
       " 'Pale martin',\n",
       " 'Beautiful sheartail',\n",
       " 'Tawny fish owl',\n",
       " 'Montane nightjar',\n",
       " 'Chocó trogon']"
      ]
     },
     "execution_count": 3,
     "metadata": {},
     "output_type": "execute_result"
    }
   ],
   "source": [
    "import random as rn\n",
    "\n",
    "rn.choices(data, k=10)"
   ]
  },
  {
   "cell_type": "code",
   "execution_count": 4,
   "metadata": {},
   "outputs": [
    {
     "data": {
      "text/plain": [
       "[\"abbott's babbler\",\n",
       " \"abbott's booby\",\n",
       " \"abbott's starling\",\n",
       " \"abbott's sunbird\",\n",
       " 'abd al-kuri sparrow']"
      ]
     },
     "execution_count": 4,
     "metadata": {},
     "output_type": "execute_result"
    }
   ],
   "source": [
    "data_lower = list(map(str.lower, data))\n",
    "data_lower[:5]"
   ]
  },
  {
   "cell_type": "code",
   "execution_count": 5,
   "metadata": {},
   "outputs": [
    {
     "name": "stdout",
     "output_type": "stream",
     "text": [
      " '-.abcdefghijklmnopqrstuvwxyzáãäèéíñóôöúüāēōūʻ\n",
      "47\n"
     ]
    }
   ],
   "source": [
    "chars = set()\n",
    "for s in data_lower:\n",
    "    chars = chars.union(s)\n",
    "chars = sorted(list(chars))\n",
    "vocab_size = len(chars)\n",
    "print(''.join(chars))\n",
    "print(vocab_size)"
   ]
  },
  {
   "cell_type": "code",
   "execution_count": 6,
   "metadata": {},
   "outputs": [
    {
     "name": "stdout",
     "output_type": "stream",
     "text": [
      "áãäèéíñóôöúüāēōūʻ.\n"
     ]
    }
   ],
   "source": [
    "chars_to_drop = list(chars[30:]) + ['.']\n",
    "print(''.join(chars_to_drop))"
   ]
  },
  {
   "cell_type": "code",
   "execution_count": 7,
   "metadata": {},
   "outputs": [
    {
     "name": "stdout",
     "output_type": "stream",
     "text": [
      "To drop 159 out of 10976, 1.45%\n",
      "adélie penguin\n",
      "alström's warbler\n",
      "annobón paradise flycatcher\n",
      "annobón white-eye\n",
      "apurímac brushfinch\n",
      "apurímac spinetail\n",
      "atitlán grebe\n",
      "baudó oropendola\n",
      "bogotá rail\n",
      "brasília tapaculo\n",
      "böhm's bee-eater\n",
      "böhm's flycatcher\n",
      "böhm's spinetail\n",
      "caquetá seedeater\n",
      "ceará gnateater\n",
      "chiloé wigeon\n",
      "chocó poorwill\n",
      "chocó screech owl\n",
      "chocó tapaculo\n",
      "chocó trogon\n",
      "chocó vireo\n",
      "chocó woodpecker\n",
      "clarión wren\n",
      "córdoba cinclodes\n",
      "española cactus finch\n",
      "fülleborn's boubou\n",
      "fülleborn's longclaw\n",
      "galápagos dove\n",
      "galápagos martin\n",
      "galápagos mockingbird\n",
      "galápagos petrel\n",
      "galápagos shearwater\n",
      "greater ʻamakihi\n",
      "güldenstädt's redstart\n",
      "hawaiʻi creeper\n",
      "hawaiʻi ʻakepa\n",
      "hawaiʻi ʻamakihi\n",
      "hawaiʻi ʻelepaio\n",
      "hawaiʻi ʻōʻō\n",
      "juan fernández firecrown\n",
      "juan fernández petrel\n",
      "juan fernández tit-tyrant\n",
      "junín canastero\n",
      "kauaʻi nukupuʻu\n",
      "kauaʻi ʻakialoa\n",
      "kauaʻi ʻamakihi\n",
      "kauaʻi ʻelepaio\n",
      "kauaʻi ʻōʻō\n",
      "kererū\n",
      "krüper's nuthatch\n",
      "kākāwahie\n",
      "kāmaʻo\n",
      "lesser ʻakialoa\n",
      "lühder's bushshrike\n",
      "lānaʻi hookbill\n",
      "manicoré warbling antbird\n",
      "marañón crescentchest\n",
      "marañón spinetail\n",
      "marañón thrush\n",
      "maui nui ʻakialoa\n",
      "maui nukupuʻu\n",
      "maui ʻakepa\n",
      "maui ʻalauahio\n",
      "mrs. gould's sunbird\n",
      "mrs. hume's pheasant\n",
      "mérida flowerpiercer\n",
      "mérida sunangel\n",
      "mérida tapaculo\n",
      "mérida wren\n",
      "nariño tapaculo\n",
      "north island kōkako\n",
      "north island takahē\n",
      "oberländer's ground thrush\n",
      "olomaʻo\n",
      "oʻahu nukupuʻu\n",
      "oʻahu ʻakepa\n",
      "oʻahu ʻakialoa\n",
      "oʻahu ʻalauahio\n",
      "oʻahu ʻamakihi\n",
      "oʻahu ʻelepaio\n",
      "oʻahu ʻōʻō\n",
      "perijá brushfinch\n",
      "perijá metaltail\n",
      "perijá tapaculo\n",
      "perijá thistletail\n",
      "poʻouli\n",
      "príncipe seedeater\n",
      "príncipe speirops\n",
      "príncipe sunbird\n",
      "príncipe thrush\n",
      "príncipe weaver\n",
      "príncipe white-eye\n",
      "père david's owl\n",
      "père david's snowfinch\n",
      "père david's tit\n",
      "rondônia bushbird\n",
      "ryūkyū scops owl\n",
      "réunion bulbul\n",
      "réunion cuckooshrike\n",
      "réunion grey white-eye\n",
      "réunion harrier\n",
      "réunion ibis\n",
      "réunion kestrel\n",
      "réunion night heron\n",
      "réunion olive white-eye\n",
      "réunion owl\n",
      "réunion rail\n",
      "réunion sheldgoose\n",
      "réunion stonechat\n",
      "río orinoco spinetail\n",
      "rück's blue flycatcher\n",
      "rüppell's black chat\n",
      "rüppell's korhaan\n",
      "rüppell's parrot\n",
      "rüppell's robin-chat\n",
      "rüppell's starling\n",
      "rüppell's vulture\n",
      "rüppell's warbler\n",
      "rüppell's weaver\n",
      "san cristóbal flycatcher\n",
      "san cristóbal mockingbird\n",
      "sincorá antwren\n",
      "sinú parakeet\n",
      "sjöstedt's barred owlet\n",
      "sjöstedt's greenbul\n",
      "south island kōkako\n",
      "south island takahē\n",
      "são francisco sparrow\n",
      "são paulo tyrannulet\n",
      "são tomé fiscal\n",
      "são tomé green pigeon\n",
      "são tomé grosbeak\n",
      "são tomé ibis\n",
      "são tomé olive pigeon\n",
      "são tomé oriole\n",
      "são tomé paradise flycatcher\n",
      "são tomé prinia\n",
      "são tomé scops owl\n",
      "são tomé shorttail\n",
      "são tomé spinetail\n",
      "são tomé thrush\n",
      "são tomé weaver\n",
      "são tomé white-eye\n",
      "tapajós hermit\n",
      "tres marías amazon\n",
      "tucumán amazon\n",
      "tucumán mountain finch\n",
      "táchira antpitta\n",
      "várzea thrush\n",
      "ʻakekeʻe\n",
      "ʻakiapolaʻau\n",
      "ʻakikiki\n",
      "ʻakohekohe\n",
      "ʻanianiau\n"
     ]
    }
   ],
   "source": [
    "chars_to_drop_set = set(chars_to_drop)\n",
    "data_to_drop = list(filter(lambda n: chars_to_drop_set.intersection(n), data_lower))\n",
    "print(f'To drop {len(data_to_drop)} out of {len(data)}, {len(data_to_drop)/len(data)*100:.2f}%')\n",
    "print(*data_to_drop[:-5], sep='\\n')"
   ]
  },
  {
   "cell_type": "code",
   "execution_count": 8,
   "metadata": {},
   "outputs": [
    {
     "name": "stdout",
     "output_type": "stream",
     "text": [
      "Remaining 10817 out of 10976, 98.55%\n",
      "abbott's babbler\n",
      "abbott's booby\n",
      "abbott's starling\n",
      "abbott's sunbird\n",
      "abd al-kuri sparrow\n"
     ]
    }
   ],
   "source": [
    "data_filtered = list(filter(lambda n: not chars_to_drop_set.intersection(n), data_lower))\n",
    "print(f'Remaining {len(data_filtered)} out of {len(data)}, {len(data_filtered)/len(data)*100:.2f}%')\n",
    "print(*(data_filtered[:5]), sep='\\n')"
   ]
  },
  {
   "cell_type": "code",
   "execution_count": 9,
   "metadata": {},
   "outputs": [
    {
     "name": "stdout",
     "output_type": "stream",
     "text": [
      " #'-abcdefghijklmnopqrstuvwxyz\n",
      "30\n"
     ]
    }
   ],
   "source": [
    "chars = set()\n",
    "for s in data_filtered:\n",
    "    chars = chars.union(s)\n",
    "chars = list(sorted(chars))\n",
    "chars = ['#'] + chars\n",
    "vocab_size = len(chars)\n",
    "print(''.join(sorted(chars)))\n",
    "print(vocab_size)"
   ]
  },
  {
   "cell_type": "code",
   "execution_count": 10,
   "metadata": {},
   "outputs": [],
   "source": [
    "ch2i = { ch:i for i,ch in enumerate(chars)}\n",
    "i2ch = { i:ch for i,ch in enumerate(chars)}\n",
    "encode = lambda st: [ch2i[ch] for ch in st]\n",
    "decode = lambda l: [i2ch[i] for i in l]"
   ]
  },
  {
   "cell_type": "code",
   "execution_count": 11,
   "metadata": {},
   "outputs": [
    {
     "data": {
      "text/plain": [
       "(\"abbott's babbler\",\n",
       " [4, 5, 5, 18, 23, 23, 2, 22, 1, 5, 4, 5, 5, 15, 8, 21],\n",
       " \"abbott's babbler\")"
      ]
     },
     "execution_count": 11,
     "metadata": {},
     "output_type": "execute_result"
    }
   ],
   "source": [
    "data_filtered[0], encode(data_filtered[0]), ''.join(decode(encode(data_filtered[0])))"
   ]
  },
  {
   "cell_type": "code",
   "execution_count": 12,
   "metadata": {},
   "outputs": [
    {
     "data": {
      "text/plain": [
       "(3, 35)"
      ]
     },
     "execution_count": 12,
     "metadata": {},
     "output_type": "execute_result"
    }
   ],
   "source": [
    "min([len(n) for n in data_filtered]), max([len(n) for n in data_filtered])"
   ]
  },
  {
   "cell_type": "code",
   "execution_count": 13,
   "metadata": {},
   "outputs": [
    {
     "data": {
      "image/png": "[encoded data removed]",
      "text/plain": [
       "<Figure size 640x480 with 1 Axes>"
      ]
     },
     "metadata": {},
     "output_type": "display_data"
    }
   ],
   "source": [
    "from matplotlib import pyplot as plt\n",
    "\n",
    "plt.hist([len(n) for n in data_filtered], bins=25);"
   ]
  },
  {
   "cell_type": "code",
   "execution_count": 14,
   "metadata": {},
   "outputs": [
    {
     "name": "stdout",
     "output_type": "stream",
     "text": [
      "emu\n",
      "kea\n",
      "mao\n",
      "tui\n",
      "dodo\n"
     ]
    }
   ],
   "source": [
    "print(*sorted(data_filtered, key=len)[:5], sep='\\n')"
   ]
  },
  {
   "cell_type": "code",
   "execution_count": 17,
   "metadata": {},
   "outputs": [
    {
     "data": {
      "image/png": "[encoded data removed]",
      "text/plain": [
       "<Figure size 1000x700 with 1 Axes>"
      ]
     },
     "metadata": {},
     "output_type": "display_data"
    }
   ],
   "source": [
    "all = []\n",
    "\n",
    "for n in data_filtered:\n",
    "    all.extend(encode(n))\n",
    "\n",
    "plt.figure(figsize=(10,7));\n",
    "plt.hist(all, bins=vocab_size-2);\n",
    "plt.xticks([x+.5 for x in range(vocab_size)], [i2ch[i] for i in range(vocab_size)]);\n",
    "plt.yticks(range(0, 23000, 1000));\n"
   ]
  },
  {
   "cell_type": "code",
   "execution_count": null,
   "metadata": {},
   "outputs": [],
   "source": []
  }
 ],
 "metadata": {
  "kernelspec": {
   "display_name": "venv",
   "language": "python",
   "name": "python3"
  },
  "language_info": {
   "codemirror_mode": {
    "name": "ipython",
    "version": 3
   },
   "file_extension": ".py",
   "mimetype": "text/x-python",
   "name": "python",
   "nbconvert_exporter": "python",
   "pygments_lexer": "ipython3",
   "version": "3.12.3"
  }
 },
 "nbformat": 4,
 "nbformat_minor": 2
}
