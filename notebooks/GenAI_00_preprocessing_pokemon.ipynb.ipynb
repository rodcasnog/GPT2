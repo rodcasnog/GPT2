{
 "cells": [
  {
   "cell_type": "markdown",
   "metadata": {},
   "source": [
    "This is a small project utilizing the differenet GenAI architectures to generate new bird & Pokemon names."
   ]
  },
  {
   "cell_type": "code",
   "execution_count": 1,
   "metadata": {},
   "outputs": [
    {
     "name": "stdout",
     "output_type": "stream",
     "text": [
      " '-.2:abcdefghijklmnopqrstuvwxyzé♀♂\n",
      "len(data)=801, vocab_size=35\n"
     ]
    }
   ],
   "source": [
    "import csv\n",
    "from matplotlib import pyplot as pyplot\n",
    "\n",
    "with open('../data/pokemon.csv', newline='') as f:\n",
    "    reader = csv.reader(f)\n",
    "    data = [n for n in list(reader)[1:]]\n",
    "data = [data[i][30] for i in range(len(data))]\n",
    "# print(*data, sep='\\n')\n",
    "data_lower = list(map(str.lower, data))\n",
    "\n",
    "chars = set()\n",
    "for s in data_lower:\n",
    "    chars = chars.union(s)\n",
    "chars = sorted(list(chars))\n",
    "print(*chars, sep='')\n",
    "vocab_size = len(chars)\n",
    "\n",
    "print(f'{len(data)=}, {vocab_size=}')"
   ]
  },
  {
   "cell_type": "code",
   "execution_count": 2,
   "metadata": {},
   "outputs": [
    {
     "name": "stdout",
     "output_type": "stream",
     "text": [
      "nidoran♀\n",
      "nidoran♂\n",
      "farfetch'd\n",
      "mr. mime\n",
      "porygon2\n",
      "ho-oh\n",
      "mime jr.\n",
      "porygon-z\n",
      "flabébé\n",
      "type: null\n",
      "jangmo-o\n",
      "hakamo-o\n",
      "kommo-o\n",
      "tapu koko\n",
      "tapu lele\n",
      "tapu bulu\n",
      "tapu fini\n"
     ]
    }
   ],
   "source": [
    "print(*list(filter(lambda w: set(w).intersection(set(\"-.2:é♀♂' \")), data_lower)), sep='\\n')"
   ]
  },
  {
   "cell_type": "code",
   "execution_count": 3,
   "metadata": {},
   "outputs": [
    {
     "name": "stdout",
     "output_type": "stream",
     "text": [
      "#abcdefghijklmnopqrstuvwxyz\n"
     ]
    }
   ],
   "source": [
    "chars_to_drop = set(\"-.2:é♀♂' \")\n",
    "data = list(filter(lambda n: not chars_to_drop.intersection(n), data_lower))\n",
    "\n",
    "chars = ['#'] + list(sorted(set(chars).difference(chars_to_drop)))\n",
    "print(*chars, sep='')\n",
    "vocab_size = len(chars)\n",
    "\n",
    "ch2i = { ch:i for i,ch in enumerate(chars)}\n",
    "i2ch = { i:ch for i,ch in enumerate(chars)}"
   ]
  },
  {
   "cell_type": "code",
   "execution_count": null,
   "metadata": {},
   "outputs": [],
   "source": []
  }
 ],
 "metadata": {
  "kernelspec": {
   "display_name": "venv",
   "language": "python",
   "name": "python3"
  },
  "language_info": {
   "codemirror_mode": {
    "name": "ipython",
    "version": 3
   },
   "file_extension": ".py",
   "mimetype": "text/x-python",
   "name": "python",
   "nbconvert_exporter": "python",
   "pygments_lexer": "ipython3",
   "version": "3.12.3"
  }
 },
 "nbformat": 4,
 "nbformat_minor": 2
}
