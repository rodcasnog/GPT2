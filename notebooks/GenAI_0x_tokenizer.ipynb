{
 "cells": [
  {
   "cell_type": "markdown",
   "metadata": {},
   "source": [
    "This is a small project utilizing the differenet GenAI architectures to generate new bird & Pokemon names."
   ]
  },
  {
   "cell_type": "code",
   "execution_count": 1,
   "metadata": {},
   "outputs": [
    {
     "name": "stdout",
     "output_type": "stream",
     "text": [
      "[84, 104, 101, 32, 112, 111, 116, 97, 116, 111, 32, 105, 115, 32, 97, 32, 115, 116, 97, 114, 99, 104, 121, 32, 114, 111, 111, 116, 32, 118, 101, 103, 101, 116, 97, 98, 108, 101, 32, 110, 97, 116, 105, 118, 101, 32, 116, 111, 32, 116, 104, 101, 32, 65, 109, 101, 114, 105, 99, 97, 115, 32, 116, 104, 97, 116, 32, 105, 115, 32, 99, 111, 110, 115, 117, 109, 101, 100, 32, 97, 115, 32, 97, 32, 115, 116, 97, 112, 108, 101, 32, 102, 111, 111, 100, 32, 105, 110, 32, 109, 97, 110, 121, 32, 112, 97, 114, 116, 115, 32, 111, 102, 32, 116, 104, 101, 32, 119, 111, 114, 108, 100, 46, 32, 80, 111, 116, 97, 116, 111, 101, 115, 32, 97, 114, 101, 32, 116, 117, 98, 101, 114, 115, 32, 111, 102, 32, 116, 104, 101, 32, 112, 108, 97, 110, 116, 32, 83, 111, 108, 97, 110, 117, 109, 32, 116, 117, 98, 101, 114, 111, 115, 117, 109, 44, 32, 97, 32, 112, 101, 114, 101, 110, 110, 105, 97, 108, 32, 105, 110, 32, 116, 104, 101, 32, 110, 105, 103, 104, 116, 115, 104, 97, 100, 101, 32, 102, 97, 109, 105, 108, 121, 32, 83, 111, 108, 97, 110, 97, 99, 101, 97, 101, 46, 91, 51, 93]\n"
     ]
    }
   ],
   "source": [
    "s = 'The potato is a starchy root vegetable native to the Americas that is consumed as a staple food in many parts of the world. Potatoes are tubers of the plant Solanum tuberosum, a perennial in the nightshade family Solanaceae.[3]'\n",
    "l = list(map(int, s.encode('utf-8')))\n",
    "print(l)"
   ]
  },
  {
   "cell_type": "code",
   "execution_count": 2,
   "metadata": {},
   "outputs": [
    {
     "data": {
      "text/plain": [
       "(121, 32)"
      ]
     },
     "execution_count": 2,
     "metadata": {},
     "output_type": "execute_result"
    }
   ],
   "source": [
    "max(l), min(l)"
   ]
  },
  {
   "cell_type": "code",
   "execution_count": 3,
   "metadata": {},
   "outputs": [],
   "source": [
    "def byte_pair_encoding2(l):\n",
    "    pairs = {}\n",
    "    for a,b in zip(l,l[1:]):\n",
    "        pairs[(a,b)] = pairs.get((a,b), 0) + 1\n",
    "\n",
    "    max_pair = 0\n",
    "    max_count = 0\n",
    "    for k,v in pairs.items():\n",
    "        if v > max_count:\n",
    "            max_pair = k\n",
    "            max_count = v\n",
    "    # print(max_pair, max_count)\n",
    "    if max_count < 2:\n",
    "        return l, None\n",
    "\n",
    "    y = max_pair[1]\n",
    "    m = 0\n",
    "    while y:\n",
    "        y = (y-1) // 256\n",
    "        m += 1\n",
    "    \n",
    "    nl = []\n",
    "    i = 0\n",
    "    new_token = max_pair[0] * 256**m + max_pair[1]\n",
    "    while i < len(l):\n",
    "        if i < len(l) - 1 and (l[i],l[i+1]) == max_pair:\n",
    "            nl.append(new_token)\n",
    "            i += 2\n",
    "        else:\n",
    "            nl.append(l[i])\n",
    "            i += 1\n",
    "\n",
    "    return nl, new_token"
   ]
  },
  {
   "cell_type": "code",
   "execution_count": 4,
   "metadata": {},
   "outputs": [
    {
     "name": "stdout",
     "output_type": "stream",
     "text": [
      "227\n",
      "217 32 25888\n",
      "\n",
      "210 33 29472\n",
      "\n",
      "205 34 6841632\n",
      "\n",
      "200 35 29793\n",
      "\n",
      "195 36 8308\n",
      "\n",
      "191 37 8297\n",
      "\n",
      "187 38 139391952160\n",
      "\n",
      "183 39 25970\n",
      "\n",
      "179 40 24942\n",
      "\n",
      "176 41 29807\n",
      "\n",
      "173 42 7544929\n",
      "\n",
      "170 42 31008\n",
      "\n",
      "167 43 30061\n",
      "\n",
      "164 44 7102830\n",
      "\n",
      "162 45 7304289\n",
      "\n",
      "160 45 478693913711\n",
      "\n",
      "158 46 1931501856\n",
      "\n",
      "156 46 494464475251\n",
      "\n",
      "154 46 32405223850079329\n",
      "\n",
      "152 47 28527\n",
      "\n",
      "150 48 29728\n",
      "\n",
      "148 49 7103776\n",
      "\n",
      "146 50 24948\n",
      "\n",
      "144 51 7566701\n",
      "\n",
      "142 52 8289\n",
      "\n",
      "140 53 2124142\n",
      "\n",
      "138 54 7544943\n",
      "\n",
      "136 54 1931505510\n",
      "\n",
      "134 54 2123712767497804997920\n",
      "\n",
      "132 54 30050\n",
      "\n",
      "130 54 1969382770\n",
      "\n",
      "128 54 21359\n",
      "\n",
      "126 54 358351659374\n",
      "\n",
      "124 55 28265\n",
      "\n"
     ]
    }
   ],
   "source": [
    "nl = l\n",
    "print(len(nl))\n",
    "for i in range(50):\n",
    "    nl, new_token = byte_pair_encoding2(nl)\n",
    "    if new_token:\n",
    "        print(len(nl), len(set(nl)), new_token)\n",
    "        print('')"
   ]
  },
  {
   "cell_type": "code",
   "execution_count": 5,
   "metadata": {},
   "outputs": [
    {
     "name": "stdout",
     "output_type": "stream",
     "text": [
      "8295752998038300773 [32]\n",
      "32405285148587112 [32, 101]\n",
      "126583145111668 [32, 101, 104]\n",
      "494465410592 [32, 101, 104, 116]\n",
      "1931505510 [32, 101, 104, 116, 32]\n",
      "7544943 [32, 101, 104, 116, 32, 102]\n",
      "29472 [32, 101, 104, 116, 32, 102, 111]\n",
      "115 [32, 101, 104, 116, 32, 102, 111, 32]\n",
      "0 [32, 101, 104, 116, 32, 102, 111, 32, 115]\n",
      "s of the \n"
     ]
    }
   ],
   "source": [
    "def dec(x):\n",
    "    c = []\n",
    "    while x:\n",
    "        c.append(((x-1) % 256)+1)\n",
    "        x = (x-1) // 256\n",
    "        print(x, c)\n",
    "    c = c[::-1]\n",
    "    x = max(nl)\n",
    "    return bytes(c).decode('utf-8')\n",
    "print(dec(max(nl)))"
   ]
  },
  {
   "cell_type": "code",
   "execution_count": 6,
   "metadata": {},
   "outputs": [],
   "source": [
    "import collections\n",
    "\n",
    "def byte_pair_encoding(text):\n",
    "    pairs = collections.defaultdict(int)\n",
    "    for i in range(len(text) - 1):\n",
    "        pairs[(text[i], text[i+1])] += 1\n",
    "    \n",
    "    max_pair = 0\n",
    "    max_count = 0\n",
    "    for k,v in pairs.items():\n",
    "        if v > max_count:\n",
    "            max_pair = k\n",
    "            max_count = v\n",
    "    \n",
    "    i = j = 0\n",
    "    new_token = max_pair[0] + max_pair[1]\n",
    "    while i < len(text):\n",
    "        if i + 1 < len(text) and (text[i], text[i+1]) == max_pair:\n",
    "            text[j] = new_token\n",
    "            i += 2\n",
    "        else:\n",
    "            text[j] = text[i]\n",
    "            i += 1\n",
    "        j += 1\n",
    "    \n",
    "    return text[:j]"
   ]
  },
  {
   "cell_type": "code",
   "execution_count": 8,
   "metadata": {},
   "outputs": [
    {
     "name": "stdout",
     "output_type": "stream",
     "text": [
      "227 ['T', 'h', 'e ', 'p', 'o', 't', 'a', 't', 'o', ' ', 'i', 's', ' ', 'a', ' ', 's', 't', 'a', 'r', 'c', 'h', 'y', ' ', 'r', 'o', 'o', 't', ' ', 'v', 'e', 'g', 'e', 't', 'a', 'b', 'l', 'e ', 'n', 'a', 't', 'i', 'v', 'e ', 't', 'o', ' ', 't', 'h', 'e ', 'A', 'm', 'e', 'r', 'i', 'c', 'a', 's', ' ', 't', 'h', 'a', 't', ' ', 'i', 's', ' ', 'c', 'o', 'n', 's', 'u', 'm', 'e', 'd', ' ', 'a', 's', ' ', 'a', ' ', 's', 't', 'a', 'p', 'l', 'e ', 'f', 'o', 'o', 'd', ' ', 'i', 'n', ' ', 'm', 'a', 'n', 'y', ' ', 'p', 'a', 'r', 't', 's', ' ', 'o', 'f', ' ', 't', 'h', 'e ', 'w', 'o', 'r', 'l', 'd', '.', ' ', 'P', 'o', 't', 'a', 't', 'o', 'e', 's', ' ', 'a', 'r', 'e ', 't', 'u', 'b', 'e', 'r', 's', ' ', 'o', 'f', ' ', 't', 'h', 'e ', 'p', 'l', 'a', 'n', 't', ' ', 'S', 'o', 'l', 'a', 'n', 'u', 'm', ' ', 't', 'u', 'b', 'e', 'r', 'o', 's', 'u', 'm', ',', ' ', 'a', ' ', 'p', 'e', 'r', 'e', 'n', 'n', 'i', 'a', 'l', ' ', 'i', 'n', ' ', 't', 'h', 'e ', 'n', 'i', 'g', 'h', 't', 's', 'h', 'a', 'd', 'e ', 'f', 'a', 'm', 'i', 'l', 'y', ' ', 'S', 'o', 'l', 'a', 'n', 'a', 'c', 'e', 'a', 'e', '.', '[', '3', ']', 'n', 'a', 'c', 'e', 'a', 'e', '.', '[', '3', ']']\n",
      "32 {'r', 'P', 'h', 'g', '[', 'v', 's', 'b', 'T', 'e ', 'S', 'p', 'u', ',', 't', ' ', ']', 'd', 'm', 'w', '.', 'e', 'A', '3', 'f', 'i', 'c', 'a', 'n', 'y', 'l', 'o'}\n",
      "\n",
      "227 ['T', 'he ', 'p', 'o', 'ta', 't', 'o', ' i', 's ', 'a', ' ', 's', 'ta', 'r', 'c', 'h', 'y', ' ', 'r', 'o', 'o', 't', ' ', 'v', 'e', 'g', 'e', 'ta', 'b', 'l', 'e ', 'n', 'a', 't', 'i', 'v', 'e ', 't', 'o', ' the ', 'A', 'm', 'e', 'r', 'i', 'c', 'a', 's ', 't', 'h', 'a', 't', ' i', 's ', 'c', 'o', 'n', 's', 'u', 'm', 'e', 'd', ' ', 'a', 's ', 'a', ' ', 's', 'ta', 'p', 'l', 'e ', 'f', 'o', 'o', 'd', ' i', 'n', ' ', 'm', 'a', 'n', 'y', ' ', 'p', 'a', 'r', 't', 's ', 'o', 'f', ' the ', 'w', 'o', 'r', 'l', 'd', '.', ' ', 'P', 'o', 'ta', 't', 'o', 'e', 's ', 'a', 'r', 'e ', 't', 'u', 'b', 'e', 'r', 's ', 'o', 'f', ' the ', 'p', 'l', 'a', 'n', 't', ' ', 'S', 'o', 'l', 'a', 'n', 'u', 'm', ' t', 'u', 'b', 'e', 'r', 'o', 's', 'u', 'm', ',', ' ', 'a', ' ', 'p', 'e', 'r', 'e', 'n', 'n', 'i', 'a', 'l', ' i', 'n', ' the ', 'n', 'i', 'g', 'h', 't', 's', 'h', 'a', 'd', 'e ', 'f', 'a', 'm', 'i', 'l', 'y', ' ', 'S', 'o', 'l', 'a', 'n', 'a', 'c', 'e', 'a', 'e.[3]', 'n', 'a', 'c', 'e', 'a', 'e.[3]', 'e', 'a', 'e.[3]', 'e.[3]', 'e.[3]', 'e.[3]', ']', 'e', '.', '[3]', ']', ']', 'e', '.', '[', '3', ']', ']', ']', 'e', '.', '[', '3', ']', ']', 'e', '.', '[', '3', ']', '.', '[', '3', ']', '.', '[', '3', ']']\n",
      "40 {'s ', 'e.[3]', 'ta', 'r', 'P', 'h', 'g', '[', 'v', 's', 'b', 'T', ' i', 'e ', 'S', 'p', 'u', ',', 't', ' ', ']', '[3]', 'd', ' the ', 'm', 'w', '.', 'e', 'A', ' t', 'f', '3', 'he ', 'i', 'c', 'a', 'n', 'y', 'l', 'o'}\n",
      "\n",
      "227 ['T', 'he ', 'p', 'o', 'ta', 't', 'o', ' i', 's ', 'a', ' ', 's', 'ta', 'r', 'c', 'h', 'y', ' ', 'r', 'o', 'o', 't', ' ', 'v', 'e', 'g', 'e', 'ta', 'b', 'l', 'e ', 'n', 'a', 't', 'i', 'v', 'e ', 't', 'o', ' the ', 'A', 'm', 'er', 'i', 'c', 'a', 's ', 't', 'h', 'a', 't', ' i', 's ', 'c', 'o', 'n', 's', 'u', 'm', 'e', 'd', ' ', 'a', 's ', 'a', ' ', 's', 'ta', 'p', 'l', 'e ', 'f', 'o', 'o', 'd', ' i', 'n', ' ', 'm', 'an', 'y', ' ', 'p', 'a', 'r', 't', 's ', 'o', 'f', ' the ', 'w', 'o', 'r', 'l', 'd', '.', ' ', 'P', 'o', 'ta', 't', 'o', 'e', 's ', 'a', 'r', 'e ', 't', 'u', 'b', 'er', 's ', 'o', 'f', ' the ', 'p', 'l', 'an', 't', ' ', 'S', 'o', 'l', 'an', 'u', 'm', ' t', 'u', 'b', 'er', 'o', 's', 'u', 'm', ',', ' ', 'a', ' ', 'p', 'er', 'e', 'n', 'n', 'i', 'a', 'l', ' i', 'n', ' the ', 'n', 'i', 'g', 'h', 't', 's', 'h', 'a', 'd', 'e ', 'f', 'a', 'm', 'i', 'l', 'y', ' ', 'S', 'o', 'l', 'an', 'a', 'c', 'e', 'a', 'e.[3]', 'n', 'a', 'c', 'e', 'a', 'e.[3]', 'e', 'a', 'e.[3]', 'e.[3]', 'e.[3]', 'e.[3]', ']e', '.', '[3]', ']', ']e', '.[3]', ']', ']e', '.[3]', ']e', '.[3]', '.[3]', '.[3]', '].[', '3]]', '].[', '3]', '].[', '3', '].[', '3', '].[', '3]]', '.', '[', '3]]', '.', '[', '3]', '.', '[', '3]]', '.', '[', '3', ']', '.', '[', '3', ']']\n",
      "47 {'s ', 'e.[3]', 'ta', 'r', 'P', ']e', 'h', 'g', '[', 'v', 's', 'er', 'b', '].[', 'T', '3]', ' i', 'e ', 'S', 'p', 'u', ',', 't', ' ', '.[3]', ']', '[3]', 'd', '3]]', ' the ', 'm', 'w', '.', 'e', 'A', ' t', 'f', '3', 'an', 'he ', 'i', 'c', 'a', 'n', 'y', 'l', 'o'}\n",
      "\n",
      "227 ['T', 'he ', 'p', 'o', 'ta', 'to', ' i', 's a', ' ', 's', 'ta', 'r', 'c', 'h', 'y ', 'r', 'o', 'o', 't', ' ', 'v', 'e', 'g', 'e', 'ta', 'b', 'l', 'e ', 'n', 'a', 't', 'i', 'v', 'e ', 'to', ' the ', 'A', 'm', 'er', 'i', 'c', 'a', 's ', 't', 'h', 'a', 't', ' i', 's ', 'c', 'o', 'n', 's', 'um', 'e', 'd', ' ', 'a', 's a', ' ', 's', 'ta', 'p', 'l', 'e ', 'f', 'o', 'o', 'd', ' i', 'n', ' ', 'm', 'an', 'y ', 'p', 'a', 'r', 't', 's ', 'o', 'f', ' the ', 'w', 'o', 'r', 'l', 'd', '.', ' ', 'P', 'o', 'ta', 'to', 'e', 's a', 'r', 'e ', 't', 'u', 'b', 'er', 's ', 'o', 'f', ' the ', 'p', 'lan', 't', ' ', 'S', 'o', 'lan', 'um', ' t', 'u', 'b', 'er', 'o', 's', 'um', ',', ' ', 'a', ' ', 'p', 'er', 'e', 'n', 'n', 'i', 'a', 'l', ' i', 'n', ' the ', 'n', 'i', 'g', 'h', 't', 's', 'h', 'a', 'd', 'e ', 'f', 'a', 'm', 'i', 'l', 'y ', 'S', 'o', 'lan', 'a', 'c', 'ea', 'e.[3]', 'n', 'a', 'c', 'ea', 'e.[3]', 'ea', 'e.[3]', 'e.[3]', 'e.[3]', 'e.[3]', ']e', '.', '[3]', ']', ']e', '.[3]', ']', ']e', '.[3]', ']e', '.[3]', '.[3]', '.[3]', '].[', '3]]', '].[', '3]', '].[', '3', '].[', '3', '].[', '3]]', '.[', '3]]', '.[', '3]', '.[', '3]]', '.[', '3]', '.[', '3]', ']', '.', '[', '3]', '[', '3]', '][3', '][3', '][3', '][3', ']', ']', '[', '3', ']', ']', '[', '3', ']', '[', '3', ']', '[', '3', ']']\n",
      "54 {'s ', 'e.[3]', 'ta', 'r', 'um', 'P', ']e', 'h', 'g', '[', 'v', 's', 'ea', 'er', 'b', '].[', 'T', '3]', 'y ', ' i', 'e ', 'S', 'p', '][3', 'u', 'to', ',', 't', ' ', '.[3]', ']', '[3]', '.[', 'd', 's a', '3]]', ' the ', 'm', 'lan', 'w', '.', 'e', 'A', ' t', 'f', '3', 'an', 'he ', 'i', 'c', 'n', 'a', 'l', 'o'}\n",
      "\n",
      "227 ['T', 'he ', 'p', 'o', 'ta', 'to', ' i', 's a', ' ', 's', 'ta', 'r', 'c', 'h', 'y ', 'r', 'o', 'o', 't', ' ', 'v', 'e', 'g', 'e', 'ta', 'b', 'l', 'e ', 'n', 'a', 't', 'i', 'v', 'e ', 'to', ' the ', 'A', 'm', 'er', 'i', 'c', 'a', 's ', 't', 'h', 'a', 't', ' i', 's ', 'c', 'o', 'n', 's', 'um', 'e', 'd', ' ', 'a', 's a', ' ', 's', 'ta', 'p', 'l', 'e ', 'f', 'o', 'o', 'd', ' i', 'n', ' ', 'm', 'an', 'y ', 'p', 'a', 'r', 't', 's ', 'o', 'f', ' the ', 'w', 'o', 'r', 'l', 'd', '.', ' ', 'P', 'o', 'ta', 'to', 'e', 's a', 'r', 'e ', 't', 'u', 'b', 'er', 's ', 'o', 'f', ' the ', 'p', 'lan', 't', ' ', 'S', 'o', 'lan', 'um', ' t', 'u', 'b', 'er', 'o', 's', 'um', ',', ' ', 'a', ' ', 'p', 'er', 'e', 'n', 'n', 'i', 'a', 'l', ' i', 'n', ' the ', 'n', 'i', 'g', 'h', 't', 's', 'h', 'a', 'd', 'e ', 'f', 'a', 'm', 'i', 'l', 'y ', 'S', 'o', 'lan', 'a', 'c', 'eae.[3]', 'n', 'a', 'c', 'eae.[3]', 'eae.[3]', 'e.[3]', 'e.[3]', 'e.[3]', ']e', '.', '[3]', ']', ']e.[3]', ']', ']e.[3]', ']e.[3]', '.[3]', '.[3]', '].[', '3]]', '].[', '3]', '].[', '3', '].[', '3', '].[', '3]]', '.[', '3]]', '.[', '3]', '.[', '3]]', '.[', '3]', '.[', '3]', ']', '.', '[', '3]', '[', '3]', '][3][3', '][3][3', ']', '][3]', '][3][3', '][3]', '][3]', '][3', '][3', '][3]', '][3', ']', '][3', ']', '][3', '][3', ']', ']', '[', '3', ']', ']', '[', '3', ']']\n",
      "57 {'s ', 'e.[3]', 'ta', 'r', 'um', 'P', ']e', 'h', 'g', '[', 'v', 's', 'er', 'b', '].[', 'T', '3]', 'y ', ' i', 'e ', 'S', 'p', '][3', 'u', 'to', ',', '][3]', 't', ' ', '.[3]', ']', '[3]', '.[', 'd', 's a', '3]]', ' the ', 'm', 'lan', 'w', '.', 'e', 'A', ' t', 'f', ']e.[3]', 'an', '3', '][3][3', 'he ', 'i', 'c', 'n', 'a', 'eae.[3]', 'l', 'o'}\n",
      "\n",
      "227 ['T', 'he ', 'p', 'o', 'ta', 'to', ' i', 's a', ' ', 's', 'ta', 'r', 'c', 'h', 'y ', 'r', 'o', 'o', 't', ' ', 'v', 'e', 'g', 'e', 'ta', 'b', 'l', 'e ', 'n', 'a', 't', 'i', 'v', 'e ', 'to', ' the ', 'A', 'm', 'er', 'i', 'c', 'a', 's ', 't', 'h', 'a', 't', ' i', 's ', 'c', 'o', 'n', 's', 'um', 'e', 'd', ' ', 'a', 's a', ' ', 's', 'ta', 'p', 'l', 'e ', 'f', 'o', 'o', 'd', ' i', 'n', ' ', 'm', 'an', 'y ', 'p', 'a', 'r', 't', 's ', 'o', 'f', ' the ', 'w', 'o', 'r', 'l', 'd', '.', ' ', 'P', 'o', 'ta', 'to', 'e', 's a', 'r', 'e ', 't', 'u', 'b', 'er', 's ', 'o', 'f', ' the ', 'p', 'lan', 't', ' ', 'S', 'o', 'lan', 'um', ' t', 'u', 'b', 'er', 'o', 's', 'um', ',', ' ', 'a', ' ', 'p', 'er', 'e', 'n', 'n', 'i', 'a', 'l', ' i', 'n', ' the ', 'n', 'i', 'g', 'h', 't', 's', 'h', 'a', 'd', 'e ', 'f', 'a', 'm', 'i', 'l', 'y ', 'S', 'o', 'lan', 'a', 'c', 'eae.[3]', 'n', 'a', 'c', 'eae.[3]', 'eae.[3]', 'e.[3]', 'e.[3]', 'e.[3]', ']e', '.', '[3]', ']', ']e.[3]', ']', ']e.[3]', ']e.[3]', '.[3]', '.[3]', '].[', '3]]', '].[', '3]', '].[', '3', '].[', '3', '].[', '3]].[', '3]].[', '3]', '.[', '3]].[', '3]', '.[', '3]', ']', '.', '[3]', '[3]', '][3][3', '][3][3', ']', '][3]', '][3][3', '][3]][3]', '][3][3', '][3]][3]', '][3]', '][3', '][3]', '][3', ']', '][3][3', '][3', ']', ']', '[3]', ']', '[3]', '3]3]', '3]3]', '3]3]', '3', ']', '3', ']', ']', '3', ']']\n",
      "59 {'s ', 'e.[3]', 'ta', 'r', 'um', 'P', ']e', 'h', 'g', 'v', 's', 'er', 'b', '].[', 'T', '3]', 'y ', '3]3]', ' i', 'e ', 'S', 'p', '][3', 'u', '3]].[', 'to', '][3]][3]', ',', '][3]', 't', ' ', '.[3]', ']', '[3]', '.[', 'd', 's a', '3]]', ' the ', 'm', 'lan', 'w', '.', 'e', 'A', ' t', 'f', ']e.[3]', 'an', '3', '][3][3', 'he ', 'i', 'c', 'n', 'a', 'eae.[3]', 'l', 'o'}\n",
      "\n",
      "227 ['T', 'he ', 'p', 'otato', ' i', 's a sta', 'r', 'c', 'h', 'y ', 'r', 'o', 'o', 't', ' ', 'v', 'e', 'g', 'e', 'ta', 'b', 'l', 'e ', 'n', 'a', 't', 'i', 'v', 'e ', 'to', ' the ', 'A', 'm', 'er', 'i', 'c', 'a', 's ', 't', 'h', 'a', 't', ' i', 's ', 'c', 'o', 'n', 's', 'um', 'e', 'd', ' ', 'a', 's a sta', 'p', 'l', 'e ', 'f', 'o', 'o', 'd', ' i', 'n', ' ', 'm', 'an', 'y ', 'p', 'a', 'r', 't', 's ', 'o', 'f', ' the ', 'w', 'o', 'r', 'l', 'd', '.', ' ', 'P', 'otato', 'e', 's a', 'r', 'e ', 't', 'u', 'b', 'er', 's ', 'o', 'f', ' the ', 'p', 'lan', 't', ' ', 'S', 'o', 'lan', 'um', ' t', 'u', 'b', 'er', 'o', 's', 'um', ',', ' ', 'a', ' ', 'p', 'er', 'e', 'n', 'n', 'i', 'a', 'l', ' i', 'n', ' the ', 'n', 'i', 'g', 'h', 't', 's', 'h', 'a', 'd', 'e ', 'f', 'a', 'm', 'i', 'l', 'y ', 'S', 'o', 'lan', 'a', 'c', 'eae.[3]', 'n', 'a', 'c', 'eae.[3]', 'eae.[3]', 'e.[3]', 'e.[3]', 'e.[3]', ']e', '.', '[3]', ']', ']e.[3]', ']', ']e.[3]', ']e.[3]', '.[3]', '.[3]', '].[', '3]]', '].[', '3]', '].[', '3', '].[', '3', '].[', '3]].[', '3]].[', '3]', '.[', '3]].[', '3]', '.[', '3]]', '.', '[3]', '[3]', '][3][3', '][3][3', ']', '][3]', '][3][3', '][3]][3]', '][3][3', '][3]][3]', '][3]', '][3', '][3]', '][3', ']', '][3][3', '][3', ']', ']', '[3]', ']', '[3]', '3]3]', '3]3]', '3]3]', '3]', '3]]', '3]]', '3]', ']', '3]', '3]', ']3', ']3', ']3', ']', ']3', ']3', ']3', ']', ']', '3', ']']\n",
      "62 {'s ', 's a sta', 'e.[3]', 'r', 'ta', 'um', 'P', ']e', ']3', 'h', 'g', 'v', 's', 'er', 'b', '].[', 'T', '3]', 'y ', '3]3]', ' i', 'e ', 'S', 'p', '][3', 'u', '3]].[', 'to', '][3]][3]', ',', '][3]', 'otato', 't', ' ', '.[3]', ']', '[3]', '.[', 'd', 's a', '3]]', ' the ', 'm', 'lan', 'w', '.', 'e', 'A', ' t', 'f', ']e.[3]', 'an', '3', '][3][3', 'he ', 'i', 'c', 'n', 'a', 'eae.[3]', 'l', 'o'}\n",
      "\n",
      "227 ['T', 'he ', 'p', 'otato', ' i', 's a sta', 'r', 'c', 'h', 'y ', 'r', 'oo', 't ', 'v', 'e', 'g', 'e', 'ta', 'b', 'le ', 'na', 't', 'i', 'v', 'e ', 'to', ' the ', 'A', 'm', 'er', 'i', 'c', 'a', 's ', 't', 'h', 'a', 't', ' i', 's ', 'c', 'o', 'n', 's', 'um', 'e', 'd', ' ', 'a', 's a sta', 'p', 'le ', 'f', 'oo', 'd', ' i', 'n', ' ', 'm', 'an', 'y ', 'p', 'a', 'r', 't', 's ', 'o', 'f', ' the ', 'w', 'o', 'r', 'l', 'd', '.', ' ', 'P', 'otato', 'e', 's a', 'r', 'e ', 't', 'u', 'b', 'er', 's ', 'o', 'f', ' the ', 'p', 'lan', 't ', 'S', 'o', 'lan', 'um', ' t', 'u', 'b', 'er', 'o', 's', 'um', ',', ' ', 'a', ' ', 'p', 'er', 'e', 'n', 'n', 'i', 'a', 'l', ' i', 'n', ' the ', 'n', 'i', 'g', 'h', 't', 's', 'h', 'a', 'd', 'e ', 'f', 'a', 'm', 'i', 'l', 'y ', 'S', 'o', 'lan', 'a', 'c', 'eae.[3]', 'na', 'c', 'eae.[3]', 'eae.[3]', 'e.[3]', 'e.[3]', 'e.[3]', ']e', '.', '[3]', ']', ']e.[3]', ']', ']e.[3]', ']e.[3]', '.[3]', '.[3]', '].[', '3]]', '].[', '3]', '].[', '3', '].[', '3', '].[', '3]].[', '3]].[', '3]', '.[', '3]].[', '3]', '.[', '3]]', '.', '[3]', '[3]', '][3][3', '][3][3', ']', '][3]', '][3][3', '][3]][3]', '][3][3', '][3]][3]', '][3]', '][3', '][3]', '][3', ']', '][3][3', '][3', ']', ']', '[3]', ']', '[3]', '3]3]', '3]3]', '3]3]', '3]', '3]]', '3]]', '3]', ']', '3]', '3]', ']3]3', ']3]', ']3]3', ']3]', ']3]3', ']3]', ']3', ']', ']3]3', ']', ']3]3', ']3', ']', ']', '3', ']', ']', '3', ']']\n",
      "68 {'s ', ']3]', 's a sta', 'e.[3]', 'r', 'ta', 'um', 'P', ']e', ']3', 'h', 'g', 'v', 's', 'er', 'b', '].[', 'T', '3]', 'y ', '3]3]', ' i', 'oo', 'e ', 'S', 'p', '][3', 'u', '3]].[', 'to', '][3]][3]', ',', '][3]', 'otato', 't', ' ', '.[3]', ']', '[3]', 'na', '.[', 'le ', 'd', 's a', '3]]', ' the ', 'm', 'lan', 'w', '.', 'e', 'A', ' t', 'f', ']e.[3]', 'an', '3', '][3][3', 'he ', 'i', ']3]3', 'c', 'a', 'n', 'l', 'eae.[3]', 't ', 'o'}\n",
      "\n",
      "227 ['T', 'he ', 'p', 'otato', ' i', 's a sta', 'r', 'c', 'h', 'y ', 'r', 'oo', 't ', 'v', 'e', 'g', 'e', 'ta', 'b', 'le ', 'na', 't', 'i', 'v', 'e ', 'to', ' the ', 'A', 'm', 'er', 'i', 'c', 'a', 's ', 't', 'ha', 't', ' i', 's ', 'c', 'o', 'n', 's', 'um', 'e', 'd', ' ', 'a', 's a sta', 'p', 'le ', 'f', 'oo', 'd', ' i', 'n', ' ', 'm', 'an', 'y ', 'p', 'a', 'r', 't', 's ', 'o', 'f', ' the ', 'w', 'o', 'r', 'l', 'd', '.', ' ', 'P', 'otato', 'e', 's a', 'r', 'e ', 't', 'u', 'b', 'er', 's ', 'o', 'f', ' the ', 'p', 'lan', 't ', 'S', 'o', 'lan', 'um', ' t', 'u', 'b', 'er', 'o', 's', 'um', ',', ' ', 'a', ' ', 'p', 'er', 'e', 'n', 'n', 'i', 'a', 'l', ' i', 'n', ' the ', 'n', 'i', 'g', 'h', 't', 's', 'ha', 'd', 'e ', 'f', 'a', 'm', 'i', 'l', 'y ', 'S', 'o', 'lan', 'a', 'c', 'eae.[3]', 'na', 'c', 'eae.[3]', 'eae.[3]', 'e.[3]', 'e.[3]', 'e.[3]', ']e', '.', '[3]', ']', ']e.[3]', ']', ']e.[3]', ']e.[3]', '.[3]', '.[3]', '].[', '3]]', '].[', '3]', '].[', '3', '].[', '3', '].[', '3]].[', '3]].[', '3]', '.[', '3]].[', '3]', '.[', '3]]', '.', '[3]', '[3]', '][3][3', '][3][3', ']', '][3]', '][3][3', '][3]][3]', '][3][3', '][3]][3]', '][3]', '][3', '][3]', '][3', ']', '][3][3', '][3', ']]', '[3]', ']', '[3]', '3]3]', '3]3]', '3]3]', '3]', '3]]3]]', '3]]', '3]3]', ']3]3]3]', ']3]3]3]', ']3]3]3]', ']3]', ']3]3', ']', ']3]3', ']3', ']]', '3', ']]', '3]]3]]', '3]]', '3]3]', ']', '3]3]', ']3]', ']3', ']3]', ']', '3', ']', ']', '3', ']']\n",
      "72 {'s ', ']3]', 's a sta', 'e.[3]', 'r', 'ta', 'um', 'P', ']e', ']]', ']3', 'h', 'g', 'v', 's', 'er', 'b', '].[', 'T', '3]', 'y ', '3]3]', ' i', 'oo', '3]]3]]', 'e ', 'S', 'p', '][3', ']3]3]3]', 'u', '3]].[', 'to', '][3]][3]', ',', '][3]', 'otato', 't', ' ', '.[3]', ']', '[3]', 'ha', 'na', '.[', 'le ', 'd', 's a', '3]]', ' the ', 'm', 'lan', 'w', '.', 'e', 'A', ' t', 'f', ']e.[3]', 'an', '3', '][3][3', 'he ', 'i', ']3]3', 'c', 'a', 'n', 'l', 'eae.[3]', 't ', 'o'}\n",
      "\n",
      "227 ['T', 'he ', 'p', 'otato', ' i', 's a sta', 'r', 'c', 'h', 'y ', 'r', 'oo', 't ', 'v', 'e', 'g', 'e', 'ta', 'b', 'le ', 'na', 't', 'i', 'v', 'e ', 'to', ' the ', 'A', 'm', 'er', 'i', 'c', 'a', 's ', 't', 'ha', 't', ' i', 's ', 'c', 'o', 'n', 'sum', 'e', 'd', ' a', 's a sta', 'p', 'le ', 'f', 'oo', 'd', ' in', ' ', 'm', 'an', 'y ', 'p', 'a', 'r', 't', 's ', 'o', 'f', ' the ', 'w', 'o', 'r', 'l', 'd', '.', ' ', 'P', 'otato', 'e', 's a', 'r', 'e ', 't', 'u', 'b', 'er', 's ', 'o', 'f', ' the ', 'p', 'lan', 't ', 'S', 'o', 'lan', 'um', ' t', 'u', 'b', 'er', 'o', 'sum', ',', ' a', ' ', 'p', 'er', 'e', 'n', 'n', 'i', 'a', 'l', ' in', ' the ', 'n', 'i', 'g', 'h', 't', 's', 'ha', 'd', 'e ', 'f', 'a', 'm', 'i', 'l', 'y ', 'S', 'o', 'lan', 'a', 'c', 'eae.[3]', 'na', 'c', 'eae.[3]', 'eae.[3]', 'e.[3]', 'e.[3]', 'e.[3]', ']e', '.', '[3]', ']', ']e.[3]', ']', ']e.[3]', ']e.[3]', '.[3]', '.[3]', '].[', '3]]', '].[', '3]', '].[', '3', '].[', '3', '].[', '3]].[', '3]].[', '3]', '.[', '3]].[', '3]', '.[', '3]]', '.', '[3]', '[3]', '][3][3', '][3][3', ']', '][3]', '][3][3', '][3]][3]', '][3][3', '][3]][3]', '][3]', '][3', '][3]', '][3', ']', '][3][3', '][3', ']]', '[3]', ']', '[3]', '3]3]', '3]3]', '3]3]', '3]', '3]]3]]', '3]]', '3]3]', ']3]3]3]', ']3]3]3]', ']3]3]3]', ']3]', ']3]3', ']', ']3]3', ']3', ']]', '3', ']]', '3]]3]]', '3]]', '3]3]', ']', '3]3]', ']3]]3', ']3]', ']3]]3', ']3]]3', ']3', ']3]]3]', ']3]]3]', ']', '3', ']', ']', '3', ']', '3', ']']\n",
      "77 {'s ', 'um', 'P', ']e', 'er', '3]3]', ' i', 'e ', 'S', '][3', ']3]3]3]', '3]].[', ']3]]3]', 's a', ' the ', 'lan', 'w', '.', '][3]', ' t', 'f', 'an', ']3]3', 'c', 't ', ' a', ' in', 'v', 's', 'b', 'T', 'y ', 'u', 'to', ',', ' ', 'na', '.[', 'd', 'A', 'i', 'n', 'l', 'e.[3]', 'r', 'ta', 'h', 'g', '].[', '3]', 'oo', 'otato', 't', '.[3]', 'le ', ']3]]3', '3', 'e', ']3]', 's a sta', ']]', ']3', '3]]3]]', 'p', 'sum', '][3]][3]', ']', '[3]', 'ha', '3]]', 'm', ']e.[3]', '][3][3', 'he ', 'a', 'eae.[3]', 'o'}\n",
      "\n"
     ]
    }
   ],
   "source": [
    "text = list(s)\n",
    "for i in range(100):\n",
    "    nl = byte_pair_encoding(text)\n",
    "    if i % 10 == 0:\n",
    "        print(len(text), text)\n",
    "        print(len(set(text)), set(text))\n",
    "        print('')"
   ]
  },
  {
   "cell_type": "code",
   "execution_count": null,
   "metadata": {},
   "outputs": [
    {
     "name": "stdout",
     "output_type": "stream",
     "text": [
      "0 170404 118 ，\n",
      "100 106357 218 ，\n",
      "200 92115 315 ，\n",
      "300 83313 413 ，\n",
      "400 77184 510 ，\n",
      "500 72698 608 ，\n",
      "600 69204 706 ，\n",
      "700 66330 804 ，\n",
      "800 63870 904 ，\n",
      "900 61771 1001 ，\n"
     ]
    },
    {
     "data": {
      "text/plain": [
       "Text(0, 0.5, 'vocab size')"
      ]
     },
     "execution_count": 9,
     "metadata": {},
     "output_type": "execute_result"
    },
    {
     "data": {
      "image/png": "[encoded data removed]",
      "text/plain": [
       "<Figure size 1000x1000 with 1 Axes>"
      ]
     },
     "metadata": {},
     "output_type": "display_data"
    }
   ],
   "source": [
    "with open('../data/DonQuixote.txt', 'r') as f:\n",
    "    s1 = f.read()\n",
    "\n",
    "x, y = [], []\n",
    "nl = list(s1)\n",
    "\n",
    "x.append(len(nl))\n",
    "y.append(len(set(nl)))\n",
    "for i in range(1000):\n",
    "    nl = byte_pair_encoding(nl)\n",
    "    x.append(len(nl))\n",
    "    y.append(len(set(nl)))\n",
    "    if i % 100 == 0:\n",
    "        print(i, len(nl), len(set(nl)), max(nl))\n",
    "\n",
    "import matplotlib.pyplot as plt\n",
    "plt.figure(figsize=(10,10))\n",
    "plt.plot(x, y)\n",
    "plt.grid()\n",
    "plt.xlabel('length')\n",
    "plt.ylabel('vocab size')"
   ]
  },
  {
   "cell_type": "code",
   "execution_count": null,
   "metadata": {},
   "outputs": [],
   "source": []
  }
 ],
 "metadata": {
  "kernelspec": {
   "display_name": "venv",
   "language": "python",
   "name": "python3"
  },
  "language_info": {
   "codemirror_mode": {
    "name": "ipython",
    "version": 3
   },
   "file_extension": ".py",
   "mimetype": "text/x-python",
   "name": "python",
   "nbconvert_exporter": "python",
   "pygments_lexer": "ipython3",
   "version": "3.12.3"
  }
 },
 "nbformat": 4,
 "nbformat_minor": 2
}
